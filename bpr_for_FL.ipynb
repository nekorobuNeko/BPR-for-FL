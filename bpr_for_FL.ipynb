{
 "cells": [
  {
   "cell_type": "code",
   "execution_count": null,
   "metadata": {},
   "outputs": [],
   "source": [
    "import numpy as np\n",
    "import pandas as pd\n",
    "import torch\n",
    "import torch.nn as nn\n",
    "import torch.nn.functional as F\n",
    "import torch.optim as optim\n",
    "from torch.autograd import Variable\n",
    "import itertools as it\n",
    "import statistics\n",
    "from lightfm.datasets import fetch_movielens\n",
    "import syft as sy #syft==0.2.9"
   ]
  },
  {
   "cell_type": "markdown",
   "metadata": {},
   "source": [
    "GPUへ切り替え，シード固定"
   ]
  },
  {
   "cell_type": "code",
   "execution_count": null,
   "metadata": {},
   "outputs": [],
   "source": [
    "torch.set_default_tensor_type(torch.cuda.FloatTensor)\n",
    "torch.manual_seed(32)\n",
    "device = torch.device('cuda:0' if torch.cuda.is_available() else 'cpu')"
   ]
  },
  {
   "cell_type": "markdown",
   "metadata": {},
   "source": [
    "データセットにはmovielens 100kを使用\n",
    "train,testにはユーザの映画閲覧履歴\n",
    "moviesには各映画のジャンルに関する情報"
   ]
  },
  {
   "cell_type": "code",
   "execution_count": null,
   "metadata": {},
   "outputs": [],
   "source": [
    "movielens = fetch_movielens()\n",
    "train = movielens['train']\n",
    "test = movielens['test']\n",
    "train = pd.DataFrame.sparse.from_spmatrix(train)\n",
    "test = pd.DataFrame.sparse.from_spmatrix(test)"
   ]
  },
  {
   "cell_type": "code",
   "execution_count": null,
   "metadata": {},
   "outputs": [],
   "source": [
    "import codecs\n",
    "with codecs.open('/data/bpr/paper/small/data/ml-100k/u.item', 'r', 'utf-8', errors='ignore') as f:\n",
    "    movies = pd.read_table(f, delimiter='|', header=None).iloc[:, 5:]\n",
    "    movies.rename(columns={0: 'item', 1: 'item_title'}, inplace=True)\n",
    "movie_data = movies.values"
   ]
  },
  {
   "cell_type": "code",
   "execution_count": null,
   "metadata": {},
   "outputs": [],
   "source": [
    "n_user, n_item = train.shape\n",
    "n_genre = len(movies.columns)\n",
    "item_array = np.array(range(n_item))\n",
    "user_array = np.array(range(n_user))"
   ]
  },
  {
   "cell_type": "markdown",
   "metadata": {},
   "source": [
    "連合学習のworkerを定義"
   ]
  },
  {
   "cell_type": "code",
   "execution_count": null,
   "metadata": {},
   "outputs": [],
   "source": [
    "workers=[]\n",
    "hook = sy.TorchHook(torch)  # <-- NEW: hook PyTorch ie add extra functionalities to support Federated Learning\n",
    "for i in range(n_user):\n",
    "  workers.append(sy.VirtualWorker(hook, id=f\"group{i+1}\"))  # <-- NEW:"
   ]
  },
  {
   "cell_type": "markdown",
   "metadata": {},
   "source": [
    "全アイテムの組み合わせのジャンルに基づく類似度を算出"
   ]
  },
  {
   "cell_type": "code",
   "execution_count": null,
   "metadata": {},
   "outputs": [],
   "source": [
    "def genre_corr(i,j):\n",
    "    num = movie_data[i]+movie_data[j]\n",
    "    sim = np.count_nonzero(num==2)/np.count_nonzero(num>0)\n",
    "    return sim"
   ]
  },
  {
   "cell_type": "code",
   "execution_count": null,
   "metadata": {},
   "outputs": [],
   "source": [
    "corr = [[genre_corr(i,j) for j in range(n_item)] for i in range(n_item)]"
   ]
  },
  {
   "cell_type": "code",
   "execution_count": null,
   "metadata": {},
   "outputs": [],
   "source": [
    "corr[0][3] #アイテム0とアイテム3のジャンル類似度が0.2"
   ]
  },
  {
   "cell_type": "markdown",
   "metadata": {},
   "source": [
    "corrを基に学習データを作成"
   ]
  },
  {
   "cell_type": "code",
   "execution_count": null,
   "metadata": {},
   "outputs": [],
   "source": [
    "def sampling(pos,neg,corr):\n",
    "    while True:\n",
    "        sample_pos = np.random.choice(pos, 1)[0]\n",
    "        sample_neg = np.random.choice(neg, 1)[0]\n",
    "        if 0<corr[sample_pos][sample_neg]<=0.5:\n",
    "            break\n",
    "    return (sample_pos, sample_neg)"
   ]
  },
  {
   "cell_type": "code",
   "execution_count": null,
   "metadata": {},
   "outputs": [],
   "source": [
    "mem=[]\n",
    "pair_wise_items = []\n",
    "for user in range(n_user):\n",
    "    print(user)\n",
    "    pos_items = train.columns[train.iloc[user]>0] \n",
    "    neg_items = np.setxor1d(item_array, pos_items)\n",
    "    pair_wise_item = [sampling(pos_items, neg_items, corr) for i in range(2**10)]\n",
    "    pair_wise_items.append(pair_wise_item)\n",
    "    positive_item = [a[0] for a in pair_wise_item] \n",
    "    negative_item = [a[1] for a in pair_wise_item] \n",
    "    positive_item, negative_item = Variable(torch.FloatTensor(positive_item)).long(), Variable(torch.FloatTensor(negative_item)).long()\n",
    "    mem.append(sy.BaseDataset(torch.tensor(positive_item), torch.tensor(negative_item)).send(workers[user]))"
   ]
  },
  {
   "cell_type": "code",
   "execution_count": null,
   "metadata": {},
   "outputs": [],
   "source": [
    "federated_train_dataset = sy.FederatedDataset(mem)\n",
    "federated_train_loader = sy.FederatedDataLoader(federated_train_dataset, batch_size=100)"
   ]
  },
  {
   "cell_type": "code",
   "execution_count": null,
   "metadata": {},
   "outputs": [],
   "source": [
    "class Model(nn.Module):\n",
    "    def __init__(self, item, k=10):\n",
    "        super().__init__()\n",
    "        self.item_emb = nn.Embedding(item, k,sparse=True)\n",
    "        self.user_emb = nn.Embedding(1, k ,sparse=True)\n",
    "    def forward(self,item,d):\n",
    "        item = self.item_emb(item)\n",
    "        user = self.user_emb(d)\n",
    "        return torch.sum(item * user, 1)"
   ]
  },
  {
   "cell_type": "code",
   "execution_count": null,
   "metadata": {},
   "outputs": [],
   "source": [
    "model=Model(n_item,k=10)\n",
    "useremb = torch.randn(n_user, 10)\n",
    "model.train()"
   ]
  },
  {
   "cell_type": "markdown",
   "metadata": {},
   "source": [
    "多様度測定のための関数"
   ]
  },
  {
   "cell_type": "code",
   "execution_count": null,
   "metadata": {},
   "outputs": [],
   "source": [
    "def com(n, p_list):\n",
    "    rec_list = np.array(range(20))\n",
    "    com_item = it.combinations(rec_list, n)\n",
    "    all_pp = 0\n",
    "    for x in com_item:\n",
    "        all_p = 1\n",
    "        pair = np.asarray(x)\n",
    "        unpair = np.setdiff1d(rec_list, pair)\n",
    "        for p in pair:\n",
    "            all_p = all_p * p_list[p]\n",
    "        for unp in unpair:\n",
    "            all_p = all_p * (1 - p_list[unp])\n",
    "        all_pp = all_pp + all_p\n",
    "    return all_pp\n",
    "\n",
    "def f(x, pl, p_more_than_0):\n",
    "    return com(x, pl) / p_more_than_0\n",
    "\n",
    "def sigma(func, frm, to, pl, p0):\n",
    "    result = 0;\n",
    "    for i in range(frm, to+1):\n",
    "        result += func(i, pl, p0)\n",
    "    if result >=1:\n",
    "        result = 0.9999999999999\n",
    "    else:\n",
    "        result = round(result, 13) \n",
    "    #print(\"result:{0}\".format(result))\n",
    "    return result\n",
    "def for_div(useremb,itememb,n,user):\n",
    "    pscore = (itememb * useremb[user]).sum(axis=1)\n",
    "    idx = np.argsort(pscore)[::-1]\n",
    "    rec_item = idx[:n]\n",
    "    all_genre = np.zeros(n_genre, dtype=np.int)\n",
    "    all_nonslt = 1\n",
    "    p_list = []\n",
    "    for item in rec_item:\n",
    "        genre = movies.iloc[item].values\n",
    "        p = np.count_nonzero(genre>0)/len(genre)\n",
    "        nonslt = 1 - p\n",
    "        p_list.append(p)\n",
    "        all_genre = all_genre + genre\n",
    "        all_nonslt = all_nonslt * nonslt\n",
    "\n",
    "    n_noncov = np.count_nonzero(all_genre < 1)\n",
    "    cov = (all_nonslt ** (1/n_genre)) ** n_noncov\n",
    "\n",
    "    p_more_than_0 = 1 - all_nonslt\n",
    "    nonred = 1\n",
    "    n_cov = np.count_nonzero(all_genre > 0)\n",
    "    for i_genre in all_genre[all_genre>0]:\n",
    "        p_genre = (1 - sigma(f, 1, i_genre-1, p_list, p_more_than_0)) ** (1/n_cov)\n",
    "        nonred = nonred * p_genre\n",
    "        #p_genre = 1 - ((sigma(f, 1, n_genre-1) * p_more_than_0) / p_more_than_0) \n",
    "    div = cov * nonred\n",
    "    return div"
   ]
  },
  {
   "cell_type": "markdown",
   "metadata": {},
   "source": [
    "類似度測定のための関数"
   ]
  },
  {
   "cell_type": "code",
   "execution_count": null,
   "metadata": {},
   "outputs": [],
   "source": [
    "def for_acc(useremb,itememb,n,test,user):\n",
    "    pscore = (itememb * useremb[user]).sum(axis=1)\n",
    "    idx = np.argsort(pscore)[::-1]\n",
    "    rec_item = idx[:n]\n",
    "    return len(np.intersect1d(rec_item, test))/n"
   ]
  },
  {
   "cell_type": "code",
   "execution_count": null,
   "metadata": {},
   "outputs": [],
   "source": [
    "def eval(test,useremb,itememb,corr):\n",
    "    rec_scale = 20\n",
    "    useremb = useremb.to(\"cpu\").detach().numpy().copy()\n",
    "    itememb = itememb.to('cpu').detach().numpy().copy()\n",
    "    acc = [for_acc(useremb,itememb,scale,i) for i in user_lst]\n",
    "    div = joblib.Parallel(n_jobs=70, verbose=1)(joblib.delayed(for_div)(useremb,itememb,scale,test,i) for i in user_lst)\n",
    "    accuracy = statistics.mean(acc)\n",
    "    diversity = statistics.mean(div)\n",
    "    return accuracy,diversity"
   ]
  },
  {
   "cell_type": "markdown",
   "metadata": {},
   "source": [
    "損失関数定義"
   ]
  },
  {
   "cell_type": "code",
   "execution_count": null,
   "metadata": {},
   "outputs": [],
   "source": [
    "def bpr_loss(x): \n",
    "  return -logsigmoid(x[0] - x[1]).mean()\n",
    "optimizer = optim.SGD(params=model.parameters(),lr=0.1)\n",
    "def logsigmoid(x):\n",
    "    x = 1 / (1 + torch.exp(-x))\n",
    "    return torch.log(x)"
   ]
  },
  {
   "cell_type": "code",
   "execution_count": null,
   "metadata": {},
   "outputs": [],
   "source": [
    "for q in range(10):\n",
    "  print(q)\n",
    "  for u, (pos,neg) in enumerate(federated_train_loader):\n",
    "    worker = pos.location\n",
    "    pos, neg = pos.to(device), neg.to(device)\n",
    "    useremb.to(device)\n",
    "    d = torch.tensor(0)\n",
    "    d = d.send(worker)\n",
    "    u = u % 943\n",
    "    model.user_emb.weight.data =  useremb[u].unsqueeze(dim=0)\n",
    "    model.send(worker)\n",
    "    predict = [model(pos,d),model(neg,d)] \n",
    "    loss = bpr_loss(predict)\n",
    "    optimizer.zero_grad()\n",
    "    loss.backward()\n",
    "    optimizer.step()\n",
    "    model.get()\n",
    "    useremb[u] = model.user_emb(torch.tensor(0)).unsqueeze(dim=0)\n",
    "  eval(test,useremb,model.item_emb(m),corr)"
   ]
  },
  {
   "cell_type": "code",
   "execution_count": null,
   "metadata": {},
   "outputs": [],
   "source": []
  }
 ],
 "metadata": {
  "kernelspec": {
   "display_name": "Python 3",
   "language": "python",
   "name": "python3"
  },
  "language_info": {
   "codemirror_mode": {
    "name": "ipython",
    "version": 3
   },
   "file_extension": ".py",
   "mimetype": "text/x-python",
   "name": "python",
   "nbconvert_exporter": "python",
   "pygments_lexer": "ipython3",
   "version": "3.6.9"
  }
 },
 "nbformat": 4,
 "nbformat_minor": 4
}
